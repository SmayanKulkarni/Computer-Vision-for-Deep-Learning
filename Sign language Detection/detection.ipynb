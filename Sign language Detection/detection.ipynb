{
 "cells": [
  {
   "cell_type": "code",
   "execution_count": 29,
   "id": "f988d58a",
   "metadata": {},
   "outputs": [],
   "source": [
    "import cv2 as cv\n",
    "import matplotlib.pyplot as plt\n",
    "import os\n",
    "import time\n",
    "import mediapipe as mp\n",
    "import numpy as np"
   ]
  },
  {
   "cell_type": "code",
   "execution_count": 30,
   "id": "82fd27b0",
   "metadata": {},
   "outputs": [],
   "source": [
    "mp_holistic = mp.solutions.holistic\n",
    "mp_drawing = mp.solutions.drawing_utils\n",
    "mp_face_mesh = mp.solutions.face_mesh "
   ]
  },
  {
   "cell_type": "code",
   "execution_count": 31,
   "id": "4da0f3c0",
   "metadata": {},
   "outputs": [],
   "source": [
    "def mediapipe_detection(image, model):\n",
    "    image = cv.cvtColor(image, cv.COLOR_BGR2RGB)\n",
    "    image.flags.writeable = False\n",
    "    results = model.process(image)\n",
    "    image.flags.writeable = True\n",
    "    image = cv.cvtColor(image, cv.COLOR_RGB2BGR)\n",
    "    return image, results"
   ]
  },
  {
   "cell_type": "code",
   "execution_count": 32,
   "id": "13a3fa4f",
   "metadata": {},
   "outputs": [],
   "source": [
    "def draw_landmarks(image, result):\n",
    "    if result.face_landmarks:\n",
    "        mp_drawing.draw_landmarks(image, result.face_landmarks, mp_face_mesh.FACEMESH_TESSELATION)\n",
    "    if result.pose_landmarks:\n",
    "        mp_drawing.draw_landmarks(image, result.pose_landmarks, mp_holistic.POSE_CONNECTIONS)\n",
    "    if result.left_hand_landmarks:\n",
    "        mp_drawing.draw_landmarks(image, result.left_hand_landmarks, mp_holistic.HAND_CONNECTIONS)\n",
    "    if result.right_hand_landmarks:\n",
    "        mp_drawing.draw_landmarks(image, result.right_hand_landmarks, mp_holistic.HAND_CONNECTIONS)\n"
   ]
  },
  {
   "cell_type": "code",
   "execution_count": 33,
   "id": "88e6cba7",
   "metadata": {},
   "outputs": [],
   "source": [
    "def draw_styled_landmarks(image, results):\n",
    "    # Draw face connections\n",
    "    mp_drawing.draw_landmarks(image, results.face_landmarks, mp_holistic.FACEMESH_TESSELATION, \n",
    "                             mp_drawing.DrawingSpec(color=(80,110,10), thickness=1, circle_radius=1), \n",
    "                             mp_drawing.DrawingSpec(color=(80,256,121), thickness=1, circle_radius=1)\n",
    "                             ) \n",
    "    # Draw pose connections\n",
    "    mp_drawing.draw_landmarks(image, results.pose_landmarks, mp_holistic.POSE_CONNECTIONS,\n",
    "                             mp_drawing.DrawingSpec(color=(80,22,10), thickness=2, circle_radius=4), \n",
    "                             mp_drawing.DrawingSpec(color=(80,44,121), thickness=2, circle_radius=2)\n",
    "                             ) \n",
    "    # Draw left hand connections\n",
    "    mp_drawing.draw_landmarks(image, results.left_hand_landmarks, mp_holistic.HAND_CONNECTIONS, \n",
    "                             mp_drawing.DrawingSpec(color=(121,22,76), thickness=2, circle_radius=4), \n",
    "                             mp_drawing.DrawingSpec(color=(121,44,250), thickness=2, circle_radius=2)\n",
    "                             ) \n",
    "    # Draw right hand connections  \n",
    "    mp_drawing.draw_landmarks(image, results.right_hand_landmarks, mp_holistic.HAND_CONNECTIONS, \n",
    "                             mp_drawing.DrawingSpec(color=(245,117,66), thickness=2, circle_radius=4), \n",
    "                             mp_drawing.DrawingSpec(color=(245,66,230), thickness=2, circle_radius=2)\n",
    "                             ) \n"
   ]
  },
  {
   "cell_type": "code",
   "execution_count": 34,
   "id": "1579e670",
   "metadata": {},
   "outputs": [
    {
     "name": "stderr",
     "output_type": "stream",
     "text": [
      "I0000 00:00:1753077907.296779   21041 gl_context_egl.cc:85] Successfully initialized EGL. Major : 1 Minor: 5\n",
      "I0000 00:00:1753077907.341256   24343 gl_context.cc:369] GL version: 3.2 (OpenGL ES 3.2 NVIDIA 570.172.08), renderer: NVIDIA GeForce RTX 4070 SUPER/PCIe/SSE2\n",
      "W0000 00:00:1753077907.371718   24315 inference_feedback_manager.cc:114] Feedback manager requires a model with a single signature inference. Disabling support for feedback tensors.\n",
      "W0000 00:00:1753077907.389427   24319 inference_feedback_manager.cc:114] Feedback manager requires a model with a single signature inference. Disabling support for feedback tensors.\n",
      "W0000 00:00:1753077907.390321   24315 inference_feedback_manager.cc:114] Feedback manager requires a model with a single signature inference. Disabling support for feedback tensors.\n",
      "W0000 00:00:1753077907.390320   24318 inference_feedback_manager.cc:114] Feedback manager requires a model with a single signature inference. Disabling support for feedback tensors.\n",
      "W0000 00:00:1753077907.391240   24322 inference_feedback_manager.cc:114] Feedback manager requires a model with a single signature inference. Disabling support for feedback tensors.\n",
      "W0000 00:00:1753077907.396061   24330 inference_feedback_manager.cc:114] Feedback manager requires a model with a single signature inference. Disabling support for feedback tensors.\n",
      "W0000 00:00:1753077907.399462   24335 inference_feedback_manager.cc:114] Feedback manager requires a model with a single signature inference. Disabling support for feedback tensors.\n",
      "W0000 00:00:1753077907.403318   24316 inference_feedback_manager.cc:114] Feedback manager requires a model with a single signature inference. Disabling support for feedback tensors.\n"
     ]
    },
    {
     "name": "stdout",
     "output_type": "stream",
     "text": [
      "Video ended or cannot read the frame.\n"
     ]
    }
   ],
   "source": [
    "cap = cv.VideoCapture('sign.mp4')\n",
    "with mp_holistic.Holistic(min_detection_confidence=0.5, min_tracking_confidence=0.5) as holistic:\n",
    "    while cap.isOpened():\n",
    "\n",
    "        ret, frame = cap.read()\n",
    "        if not ret:\n",
    "            print(\"Video ended or cannot read the frame.\")\n",
    "            break\n",
    "\n",
    "        image, results = mediapipe_detection(frame, holistic)\n",
    "            \n",
    "\n",
    "        draw_styled_landmarks(image, results)\n",
    "\n",
    "        cv.imshow('OpenCV feed', image)\n",
    "        if cv.waitKey(10) & 0xFF == ord('q'):\n",
    "            break\n",
    "\n",
    "cap.release()\n",
    "cv.destroyAllWindows()"
   ]
  },
  {
   "cell_type": "code",
   "execution_count": 35,
   "id": "dbe51015",
   "metadata": {},
   "outputs": [],
   "source": [
    "results.right_hand_landmarks"
   ]
  },
  {
   "cell_type": "code",
   "execution_count": 36,
   "id": "1b2eb958",
   "metadata": {},
   "outputs": [],
   "source": [
    "frame"
   ]
  },
  {
   "cell_type": "markdown",
   "id": "10fbfce9",
   "metadata": {},
   "source": [
    "## Extracting Keypoint Values"
   ]
  },
  {
   "cell_type": "code",
   "execution_count": 38,
   "id": "b33ad86f",
   "metadata": {},
   "outputs": [
    {
     "data": {
      "text/plain": [
       "x: 0.208067343\n",
       "y: 0.308392137\n",
       "z: -1.54519868\n",
       "visibility: 0.999556541"
      ]
     },
     "execution_count": 38,
     "metadata": {},
     "output_type": "execute_result"
    }
   ],
   "source": [
    "results.pose_landmarks.landmark[0]"
   ]
  },
  {
   "cell_type": "code",
   "execution_count": 39,
   "id": "b9e8b1c9",
   "metadata": {},
   "outputs": [
    {
     "data": {
      "text/plain": [
       "0.20806734263896942"
      ]
     },
     "execution_count": 39,
     "metadata": {},
     "output_type": "execute_result"
    }
   ],
   "source": [
    "results.pose_landmarks.landmark[0].x"
   ]
  },
  {
   "cell_type": "code",
   "execution_count": 40,
   "id": "4935a965",
   "metadata": {},
   "outputs": [
    {
     "data": {
      "text/plain": [
       "0.30839213728904724"
      ]
     },
     "execution_count": 40,
     "metadata": {},
     "output_type": "execute_result"
    }
   ],
   "source": [
    "results.pose_landmarks.landmark[0].y"
   ]
  },
  {
   "cell_type": "code",
   "execution_count": 41,
   "id": "95585882",
   "metadata": {},
   "outputs": [
    {
     "data": {
      "text/plain": [
       "-1.545198678970337"
      ]
     },
     "execution_count": 41,
     "metadata": {},
     "output_type": "execute_result"
    }
   ],
   "source": [
    "results.pose_landmarks.landmark[0].z"
   ]
  },
  {
   "cell_type": "code",
   "execution_count": 42,
   "id": "109d90c2",
   "metadata": {},
   "outputs": [],
   "source": [
    "pose = []\n",
    "\n",
    "for res in results.pose_landmarks.landmark:\n",
    "   test = np.array([res.x, res.y, res.z, res.visibility])\n",
    "   pose.append(test)"
   ]
  },
  {
   "cell_type": "code",
   "execution_count": 43,
   "id": "7f8f0809",
   "metadata": {},
   "outputs": [
    {
     "data": {
      "text/plain": [
       "[array([ 0.20806734,  0.30839214, -1.54519868,  0.99955654]),\n",
       " array([ 0.25050735,  0.26525313, -1.48343861,  0.99952579]),\n",
       " array([ 0.28829548,  0.26402819, -1.48437369,  0.99950022]),\n",
       " array([ 0.32623079,  0.26317799, -1.48611891,  0.99966347]),\n",
       " array([ 0.16714066,  0.27334788, -1.39754558,  0.99929464]),\n",
       " array([ 0.14025199,  0.27824914, -1.39638591,  0.99898279]),\n",
       " array([ 0.11178094,  0.28311449, -1.39694214,  0.99892175]),\n",
       " array([ 0.41755825,  0.29371953, -0.98805618,  0.99972099]),\n",
       " array([ 0.11090349,  0.31942326, -0.54129785,  0.99861974]),\n",
       " array([ 0.28736043,  0.36194232, -1.36281073,  0.99981803]),\n",
       " array([ 0.18105596,  0.36720055, -1.23716307,  0.99953759]),\n",
       " array([ 0.74084538,  0.57214075, -0.94858307,  0.99902934]),\n",
       " array([0.05834119, 0.60413313, 0.00761558, 0.99067634]),\n",
       " array([ 1.05765486,  0.82694376, -1.20036244,  0.77121145]),\n",
       " array([0.01450908, 0.90410393, 0.12235822, 0.15506069]),\n",
       " array([ 1.33288968,  1.07438779, -1.59983516,  0.25128546]),\n",
       " array([-0.03859431,  1.13647044, -0.92588484,  0.05941519]),\n",
       " array([ 1.45036876,  1.14652491, -1.79836357,  0.24236913]),\n",
       " array([-0.08586032,  1.22071898, -1.07540417,  0.07088299]),\n",
       " array([ 1.37591672,  1.15991616, -1.88609624,  0.32932821]),\n",
       " array([-0.02570416,  1.21965647, -1.34595597,  0.08797045]),\n",
       " array([ 1.31311631,  1.14083362, -1.65169489,  0.33534378]),\n",
       " array([ 0.00544324,  1.18871939, -1.09206772,  0.09510245]),\n",
       " array([ 0.7350809 ,  1.18485665, -0.40596852,  0.01353269]),\n",
       " array([0.24731466, 1.19841945, 0.41440433, 0.01222605]),\n",
       " array([ 0.76999199,  1.6909132 , -0.40091547,  0.00618512]),\n",
       " array([0.30484131, 1.70235789, 0.91598749, 0.00708536]),\n",
       " array([8.28992307e-01, 2.13898826e+00, 7.30698407e-01, 1.62940728e-03]),\n",
       " array([3.67429852e-01, 2.13298583e+00, 1.90024316e+00, 1.45405333e-03]),\n",
       " array([8.80327463e-01, 2.20638442e+00, 7.81603098e-01, 1.52190577e-03]),\n",
       " array([3.76888484e-01, 2.19112730e+00, 1.96689916e+00, 1.33386382e-03]),\n",
       " array([ 7.06564903e-01,  2.26984453e+00, -2.91788757e-01,  1.51539792e-03]),\n",
       " array([3.88573021e-01, 2.28172159e+00, 9.11393464e-01, 1.41088956e-03])]"
      ]
     },
     "execution_count": 43,
     "metadata": {},
     "output_type": "execute_result"
    }
   ],
   "source": [
    "pose"
   ]
  },
  {
   "cell_type": "code",
   "execution_count": 44,
   "id": "8a8db534",
   "metadata": {},
   "outputs": [],
   "source": [
    "pose = np.array(pose)"
   ]
  },
  {
   "cell_type": "code",
   "execution_count": 45,
   "id": "0259c287",
   "metadata": {},
   "outputs": [
    {
     "data": {
      "text/plain": [
       "(33, 4)"
      ]
     },
     "execution_count": 45,
     "metadata": {},
     "output_type": "execute_result"
    }
   ],
   "source": [
    "pose.shape"
   ]
  },
  {
   "cell_type": "code",
   "execution_count": 46,
   "id": "5fd6545e",
   "metadata": {},
   "outputs": [
    {
     "data": {
      "text/plain": [
       "(132,)"
      ]
     },
     "execution_count": 46,
     "metadata": {},
     "output_type": "execute_result"
    }
   ],
   "source": [
    "pose.flatten().shape"
   ]
  },
  {
   "cell_type": "code",
   "execution_count": 47,
   "id": "948c2f81",
   "metadata": {},
   "outputs": [],
   "source": [
    "pose = pose.flatten()"
   ]
  },
  {
   "cell_type": "code",
   "execution_count": 48,
   "id": "ae212058",
   "metadata": {},
   "outputs": [
    {
     "data": {
      "text/plain": [
       "(132,)"
      ]
     },
     "execution_count": 48,
     "metadata": {},
     "output_type": "execute_result"
    }
   ],
   "source": [
    "pose.shape"
   ]
  },
  {
   "cell_type": "code",
   "execution_count": 49,
   "id": "8999e686",
   "metadata": {},
   "outputs": [],
   "source": [
    "pose = np.array([[res.x, res.y, res.z, res.visibility] for res in results.pose_landmarks.landmark]).flatten() if results.pose_landmarks else np.zeros(132)\n",
    "face = np.array([[res.x, res.y, res.z] for res in results.face_landmarks.landmark]).flatten() if results.face_landmarks else np.zeros(1404)\n",
    "lh = np.array([[res.x, res.y, res.z] for res in results.left_hand_landmarks.landmark]).flatten() if results.left_hand_landmarks else np.zeros(21*3)\n",
    "rh = np.array([[res.x, res.y, res.z] for res in results.right_hand_landmarks.landmark]).flatten() if results.right_hand_landmarks else np.zeros(21*3)"
   ]
  },
  {
   "cell_type": "code",
   "execution_count": 50,
   "id": "510f20b0",
   "metadata": {},
   "outputs": [],
   "source": [
    "face = np.array([[res.x, res.y, res.z] for res in results.face_landmarks.landmark]).flatten() if results.face_landmarks else np.zeros(1404)"
   ]
  },
  {
   "cell_type": "code",
   "execution_count": 51,
   "id": "d18e973c",
   "metadata": {},
   "outputs": [],
   "source": [
    "def extract_keypoints(results):\n",
    "    pose = np.array([[res.x, res.y, res.z, res.visibility] for res in results.pose_landmarks.landmark]).flatten() if results.pose_landmarks else np.zeros(33*4)\n",
    "    face = np.array([[res.x, res.y, res.z] for res in results.face_landmarks.landmark]).flatten() if results.face_landmarks else np.zeros(468*3)\n",
    "    lh = np.array([[res.x, res.y, res.z] for res in results.left_hand_landmarks.landmark]).flatten() if results.left_hand_landmarks else np.zeros(21*3)\n",
    "    rh = np.array([[res.x, res.y, res.z] for res in results.right_hand_landmarks.landmark]).flatten() if results.right_hand_landmarks else np.zeros(21*3)\n",
    "    return np.concatenate([pose, face, lh, rh])"
   ]
  },
  {
   "cell_type": "code",
   "execution_count": 53,
   "id": "fa96fea5",
   "metadata": {},
   "outputs": [
    {
     "data": {
      "text/plain": [
       "(1662,)"
      ]
     },
     "execution_count": 53,
     "metadata": {},
     "output_type": "execute_result"
    }
   ],
   "source": [
    "extract_keypoints(results).shape"
   ]
  },
  {
   "cell_type": "code",
   "execution_count": null,
   "id": "1715ece1",
   "metadata": {},
   "outputs": [],
   "source": []
  }
 ],
 "metadata": {
  "kernelspec": {
   "display_name": "Python 3",
   "language": "python",
   "name": "python3"
  },
  "language_info": {
   "codemirror_mode": {
    "name": "ipython",
    "version": 3
   },
   "file_extension": ".py",
   "mimetype": "text/x-python",
   "name": "python",
   "nbconvert_exporter": "python",
   "pygments_lexer": "ipython3",
   "version": "3.11.9"
  }
 },
 "nbformat": 4,
 "nbformat_minor": 5
}
